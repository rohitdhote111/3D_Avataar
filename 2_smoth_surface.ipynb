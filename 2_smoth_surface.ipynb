{
  "cells": [
    {
      "cell_type": "markdown",
      "metadata": {
        "id": "wDQayYrmfMKi"
      },
      "source": [
        "## Load and prepare the data"
      ]
    },
    {
      "cell_type": "code",
      "execution_count": 1,
      "metadata": {
        "id": "Uzrw-UieNDPt"
      },
      "outputs": [
        {
          "name": "stdout",
          "output_type": "stream",
          "text": [
            "Jupyter environment detected. Enabling Open3D WebVisualizer.\n",
            "[Open3D INFO] WebRTC GUI backend enabled.\n",
            "[Open3D INFO] WebRTCWindowSystem: HTTP handshake server disabled.\n"
          ]
        }
      ],
      "source": [
        "import numpy as np\n",
        "import open3d as o3d"
      ]
    },
    {
      "cell_type": "code",
      "execution_count": 2,
      "metadata": {
        "id": "uCPkhRyEe9UM"
      },
      "outputs": [],
      "source": [
        "pcd = o3d.io.read_point_cloud(\"pc_assignment\\shoe_pc.ply\")"
      ]
    },
    {
      "cell_type": "code",
      "execution_count": 3,
      "metadata": {},
      "outputs": [],
      "source": [
        "# Estimate normals\n",
        "pcd.estimate_normals(search_param=o3d.geometry.KDTreeSearchParamHybrid(radius=0.1, max_nn=30))\n",
        "# Optionally, orient the normals consistently\n",
        "pcd.orient_normals_consistent_tangent_plane(100)"
      ]
    },
    {
      "cell_type": "code",
      "execution_count": 4,
      "metadata": {},
      "outputs": [],
      "source": [
        "# Save the point cloud with normals\n",
        "#o3d.io.write_point_cloud(\"output\\output_with_normals_shoe_pc.ply\", pcd)\n",
        "\n",
        "# Access points, colors, and normals if needed\n",
        "points = np.asarray(pcd.points)\n",
        "colors = np.asarray(pcd.colors)\n",
        "normals = np.asarray(pcd.normals)"
      ]
    },
    {
      "cell_type": "markdown",
      "metadata": {
        "id": "rypFhEUjrryA"
      },
      "source": [
        "# Algorithm 1: Ball Pivoting Algorithm"
      ]
    },
    {
      "cell_type": "code",
      "execution_count": 6,
      "metadata": {
        "id": "_k1OmNMcOnxI"
      },
      "outputs": [],
      "source": [
        "#radius determination\n",
        "distances = pcd.compute_nearest_neighbor_distance()\n",
        "avg_dist = np.mean(distances)\n",
        "radius = 3 * avg_dist"
      ]
    },
    {
      "cell_type": "code",
      "execution_count": 7,
      "metadata": {
        "id": "93CP_vJ3F-aU"
      },
      "outputs": [],
      "source": [
        "#computing the mehs\n",
        "bpa_mesh = o3d.geometry.TriangleMesh.create_from_point_cloud_ball_pivoting(pcd,o3d.utility.DoubleVector([radius, radius * 2]))"
      ]
    },
    {
      "cell_type": "code",
      "execution_count": 8,
      "metadata": {},
      "outputs": [],
      "source": [
        "#export\n",
        "# o3d.io.write_triangle_mesh(\"output\\pc_assignment\\\\bpa_mesh.ply\", bpa_mesh)\n",
        "o3d.visualization.draw_geometries([bpa_mesh])"
      ]
    },
    {
      "cell_type": "code",
      "execution_count": 9,
      "metadata": {
        "id": "lCv0aXETf-b-"
      },
      "outputs": [],
      "source": [
        "#decimating the mesh\n",
        "dec_mesh = bpa_mesh.simplify_quadric_decimation(100000)"
      ]
    },
    {
      "cell_type": "code",
      "execution_count": 10,
      "metadata": {},
      "outputs": [],
      "source": [
        "#export\n",
        "# o3d.io.write_triangle_mesh(\"output\\pc_assignment\\\\dec_mesh.ply\", dec_mesh)\n",
        "o3d.visualization.draw_geometries([dec_mesh])"
      ]
    },
    {
      "cell_type": "markdown",
      "metadata": {
        "id": "Tgv_73IEgCgH"
      },
      "source": [
        "*Optional ---*"
      ]
    },
    {
      "cell_type": "code",
      "execution_count": 11,
      "metadata": {
        "id": "j_5H7AnegBNa"
      },
      "outputs": [
        {
          "data": {
            "text/plain": [
              "TriangleMesh with 184803 points and 54649 triangles."
            ]
          },
          "execution_count": 11,
          "metadata": {},
          "output_type": "execute_result"
        }
      ],
      "source": [
        "dec_mesh.remove_degenerate_triangles()\n",
        "dec_mesh.remove_duplicated_triangles()\n",
        "dec_mesh.remove_duplicated_vertices()\n",
        "dec_mesh.remove_non_manifold_edges()"
      ]
    },
    {
      "cell_type": "code",
      "execution_count": 12,
      "metadata": {},
      "outputs": [],
      "source": [
        "#export\n",
        "# o3d.io.write_triangle_mesh(\"output\\pc_assignment\\\\opt_dec_mesh.ply\", dec_mesh)\n",
        "o3d.visualization.draw_geometries([dec_mesh])"
      ]
    },
    {
      "cell_type": "markdown",
      "metadata": {
        "id": "DLRvO9bSgHgB"
      },
      "source": [
        "# Algorithm 2: Poisson' reconstruction"
      ]
    },
    {
      "cell_type": "code",
      "execution_count": 6,
      "metadata": {
        "id": "Bb66rd6nFfL-"
      },
      "outputs": [],
      "source": [
        "#computing the mesh\n",
        "poisson_mesh = o3d.geometry.TriangleMesh.create_from_point_cloud_poisson(pcd, depth=8, width=0, scale=1.1, linear_fit=False)[0]"
      ]
    },
    {
      "cell_type": "code",
      "execution_count": 7,
      "metadata": {},
      "outputs": [],
      "source": [
        "#export\n",
        "# o3d.io.write_triangle_mesh(\"output\\pc_assignment\\p_mesh.ply\", poisson_mesh)\n",
        "o3d.visualization.draw_geometries([poisson_mesh])"
      ]
    },
    {
      "cell_type": "markdown",
      "metadata": {},
      "source": []
    },
    {
      "cell_type": "code",
      "execution_count": 15,
      "metadata": {
        "id": "V-7o1CJUuUJs"
      },
      "outputs": [],
      "source": [
        "#cropping\n",
        "bbox = pcd.get_axis_aligned_bounding_box()\n",
        "p_mesh_crop = poisson_mesh.crop(bbox)"
      ]
    },
    {
      "cell_type": "code",
      "execution_count": 16,
      "metadata": {},
      "outputs": [],
      "source": [
        "#export and visualize\n",
        "# o3d.io.write_triangle_mesh(\"output\\pc_assignment\\\\p_mesh_crop.ply\", p_mesh_crop)\n",
        "o3d.visualization.draw_geometries([p_mesh_crop])"
      ]
    }
  ],
  "metadata": {
    "colab": {
      "provenance": []
    },
    "kernelspec": {
      "display_name": "Python 3",
      "name": "python3"
    },
    "language_info": {
      "codemirror_mode": {
        "name": "ipython",
        "version": 3
      },
      "file_extension": ".py",
      "mimetype": "text/x-python",
      "name": "python",
      "nbconvert_exporter": "python",
      "pygments_lexer": "ipython3",
      "version": "3.8.18"
    }
  },
  "nbformat": 4,
  "nbformat_minor": 0
}
