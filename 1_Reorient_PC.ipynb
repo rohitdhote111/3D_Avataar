{
 "cells": [
  {
   "cell_type": "code",
   "execution_count": 1,
   "metadata": {},
   "outputs": [
    {
     "name": "stdout",
     "output_type": "stream",
     "text": [
      "Jupyter environment detected. Enabling Open3D WebVisualizer.\n",
      "[Open3D INFO] WebRTC GUI backend enabled.\n",
      "[Open3D INFO] WebRTCWindowSystem: HTTP handshake server disabled.\n"
     ]
    }
   ],
   "source": [
    "# import libraries\n",
    "import numpy as np\n",
    "import open3d as o3d"
   ]
  },
  {
   "cell_type": "code",
   "execution_count": 3,
   "metadata": {},
   "outputs": [
    {
     "name": "stdout",
     "output_type": "stream",
     "text": [
      "Displaying the initial point cloud...\n"
     ]
    }
   ],
   "source": [
    "# Load the point cloud\n",
    "pcd = o3d.io.read_point_cloud(\"pc_assignment\\shoe_pc.ply\")\n",
    "\n",
    "# Function to create a coordinate frame\n",
    "def create_coordinate_frame(size=0.8, origin=[0, 0, 0]):\n",
    "    return o3d.geometry.TriangleMesh.create_coordinate_frame(size=size, origin=origin)\n",
    "\n",
    "# Visualize the initial point cloud with coordinate frame\n",
    "print(\"Displaying the initial point cloud...\")\n",
    "o3d.visualization.draw_geometries([pcd, create_coordinate_frame()])"
   ]
  },
  {
   "cell_type": "code",
   "execution_count": 4,
   "metadata": {},
   "outputs": [
    {
     "name": "stdout",
     "output_type": "stream",
     "text": [
      "Displaying the floor points and remaining points...\n"
     ]
    }
   ],
   "source": [
    "\n",
    "# Estimate the ground plane using RANSAC\n",
    "plane_model, inliers = pcd.segment_plane(distance_threshold=0.01,\n",
    "                                         ransac_n=3,\n",
    "                                         num_iterations=1000)\n",
    "[a, b, c, d] = plane_model\n",
    "\n",
    "# Visualize the plane inliers (floor points)\n",
    "floor_points = pcd.select_by_index(inliers)\n",
    "outlier_cloud = pcd.select_by_index(inliers, invert=True)\n",
    "\n",
    "print(\"Displaying the floor points and remaining points...\")\n",
    "floor_points.paint_uniform_color([1.0, 0, 0])  # Red color for floor points\n",
    "o3d.visualization.draw_geometries([floor_points, outlier_cloud, create_coordinate_frame()])\n"
   ]
  },
  {
   "cell_type": "code",
   "execution_count": 5,
   "metadata": {},
   "outputs": [
    {
     "name": "stdout",
     "output_type": "stream",
     "text": [
      "Displaying the point cloud after rotation...\n",
      "[Open3D WARNING] GLFW Error: WGL: Failed to make context current: The requested transformation operation is not supported. \n"
     ]
    }
   ],
   "source": [
    "# Compute the normal vector to the plane\n",
    "normal_vector = np.array([a, b, c])\n",
    "\n",
    "# Compute the rotation axis (cross product with x-axis)\n",
    "x_axis = np.array([1, 0, 0])\n",
    "rotation_axis = np.cross(normal_vector, x_axis)\n",
    "rotation_axis = rotation_axis / np.linalg.norm(rotation_axis)\n",
    "\n",
    "# Compute the angle between the normal vector and x-axis\n",
    "theta = np.arccos(np.dot(normal_vector, x_axis) / np.linalg.norm(normal_vector))\n",
    "\n",
    "# Compute the rotation matrix using Rodrigues' rotation formula\n",
    "K = np.array([[0, -rotation_axis[2], rotation_axis[1]],\n",
    "              [rotation_axis[2], 0, -rotation_axis[0]],\n",
    "              [-rotation_axis[1], rotation_axis[0], 0]])\n",
    "\n",
    "R = np.eye(3) + np.sin(theta) * K + (1 - np.cos(theta)) * np.dot(K, K)\n",
    "\n",
    "# Step 4: Rotate the point cloud\n",
    "pcd.rotate(R, center=(0, 0, 0))\n",
    "\n",
    "print(\"Displaying the point cloud after rotation...\")\n",
    "o3d.visualization.draw_geometries([pcd, create_coordinate_frame()])\n"
   ]
  },
  {
   "cell_type": "code",
   "execution_count": 6,
   "metadata": {},
   "outputs": [
    {
     "name": "stdout",
     "output_type": "stream",
     "text": [
      "Displaying the final reoriented point cloud...\n"
     ]
    }
   ],
   "source": [
    "\n",
    "# Step 5: Find the centroid of the floor points\n",
    "floor_points = pcd.select_by_index(inliers)\n",
    "centroid = floor_points.get_center()\n",
    "\n",
    "# Translate the point cloud to move the centroid to the origin\n",
    "translation = -centroid\n",
    "pcd.translate(translation)\n",
    "\n",
    "# Step 6: Visualize the final point cloud\n",
    "print(\"Displaying the final reoriented point cloud...\")\n",
    "o3d.visualization.draw_geometries([pcd, create_coordinate_frame()])\n"
   ]
  },
  {
   "cell_type": "code",
   "execution_count": 7,
   "metadata": {},
   "outputs": [
    {
     "data": {
      "text/plain": [
       "True"
      ]
     },
     "execution_count": 7,
     "metadata": {},
     "output_type": "execute_result"
    }
   ],
   "source": [
    "\n",
    "# Save the reoriented point cloud\n",
    "#o3d.io.write_point_cloud(\"reoriented_point_cloud.ply\", pcd)\n"
   ]
  },
  {
   "cell_type": "code",
   "execution_count": null,
   "metadata": {},
   "outputs": [],
   "source": []
  }
 ],
 "metadata": {
  "kernelspec": {
   "display_name": "3d",
   "language": "python",
   "name": "python3"
  },
  "language_info": {
   "codemirror_mode": {
    "name": "ipython",
    "version": 3
   },
   "file_extension": ".py",
   "mimetype": "text/x-python",
   "name": "python",
   "nbconvert_exporter": "python",
   "pygments_lexer": "ipython3",
   "version": "3.8.18"
  }
 },
 "nbformat": 4,
 "nbformat_minor": 2
}
