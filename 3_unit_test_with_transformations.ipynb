{
 "cells": [
  {
   "cell_type": "code",
   "execution_count": 1,
   "metadata": {},
   "outputs": [
    {
     "name": "stdout",
     "output_type": "stream",
     "text": [
      "Jupyter environment detected. Enabling Open3D WebVisualizer.\n",
      "[Open3D INFO] WebRTC GUI backend enabled.\n",
      "[Open3D INFO] WebRTCWindowSystem: HTTP handshake server disabled.\n"
     ]
    }
   ],
   "source": [
    "# import libraries\n",
    "import numpy as np\n",
    "import open3d as o3d"
   ]
  },
  {
   "cell_type": "code",
   "execution_count": 2,
   "metadata": {},
   "outputs": [],
   "source": [
    "# Function to create a coordinate frame\n",
    "def create_coordinate_frame(size=0.2, origin=[0, 0, 0]):\n",
    "    return o3d.geometry.TriangleMesh.create_coordinate_frame(size=size, origin=origin)\n",
    "\n",
    "# Function to reorient the point cloud\n",
    "def reorient_point_cloud(pcd):\n",
    "    # Estimate the plane using RANSAC\n",
    "    plane_model, inliers = pcd.segment_plane(distance_threshold=0.01,\n",
    "                                             ransac_n=3,\n",
    "                                             num_iterations=1000)\n",
    "    [a, b, c, d] = plane_model\n",
    "\n",
    "    # Compute the normal vector to the plane\n",
    "    normal_vector = np.array([a, b, c])\n",
    "\n",
    "    # Compute the rotation axis (cross product with x-axis)\n",
    "    x_axis = np.array([1, 0, 0])\n",
    "    rotation_axis = np.cross(normal_vector, x_axis)\n",
    "    rotation_axis = rotation_axis / np.linalg.norm(rotation_axis)\n",
    "\n",
    "    # Compute the angle between the normal vector and x-axis\n",
    "    theta = np.arccos(np.dot(normal_vector, x_axis) / np.linalg.norm(normal_vector))\n",
    "\n",
    "    # Compute the rotation matrix using Rodrigues' rotation formula\n",
    "    K = np.array([[0, -rotation_axis[2], rotation_axis[1]],\n",
    "                  [rotation_axis[2], 0, -rotation_axis[0]],\n",
    "                  [-rotation_axis[1], rotation_axis[0], 0]])\n",
    "\n",
    "    R = np.eye(3) + np.sin(theta) * K + (1 - np.cos(theta)) * np.dot(K, K)\n",
    "\n",
    "    # Rotate the point cloud\n",
    "    pcd.rotate(R, center=(0, 0, 0))\n",
    "\n",
    "    # Find the centroid of the floor points\n",
    "    floor_points = pcd.select_by_index(inliers)\n",
    "    centroid = floor_points.get_center()\n",
    "\n",
    "    # Translate the point cloud to move the centroid to the origin\n",
    "    translation = -centroid\n",
    "    pcd.translate(translation)\n",
    "\n",
    "    return pcd\n",
    "\n",
    "# Function to apply random transformations to a point cloud\n",
    "def apply_random_transformations(pcd):\n",
    "    # Apply random rotation\n",
    "    R = pcd.get_rotation_matrix_from_xyz(np.random.uniform(0, 2*np.pi, 3))\n",
    "    pcd.rotate(R, center=(0, 0, 0))\n",
    "\n",
    "    # Apply random translation\n",
    "    translation = np.random.uniform(-5, 5, 3)\n",
    "    pcd.translate(translation)\n",
    "\n",
    "    return pcd\n",
    "\n",
    "# Unit test case\n",
    "def test_reorientation(input_pcd_file):\n",
    "    # Load the input point cloud\n",
    "    original_pcd = o3d.io.read_point_cloud(input_pcd_file)\n",
    "    o3d.visualization.draw_geometries([original_pcd, create_coordinate_frame()], window_name=\"Original Point Cloud\")\n",
    "\n",
    "    # Apply random transformations\n",
    "    transformed_pcd = apply_random_transformations(original_pcd)\n",
    "    o3d.visualization.draw_geometries([transformed_pcd, create_coordinate_frame()], window_name=\"Transformed Point Cloud\")\n",
    "\n",
    "    # Reorient the transformed point cloud\n",
    "    reoriented_pcd = reorient_point_cloud(transformed_pcd)\n",
    "    o3d.visualization.draw_geometries([reoriented_pcd, create_coordinate_frame()], window_name=\"Reoriented Point Cloud\")\n",
    "\n",
    "    # Check if the floor is correctly aligned\n",
    "    plane_model, inliers = reoriented_pcd.segment_plane(distance_threshold=0.01,\n",
    "                                                        ransac_n=3,\n",
    "                                                        num_iterations=1000)\n",
    "    [a, b, c, d] = plane_model\n",
    "\n",
    "    # The floor should now be on the YZ plane, hence a should be close to 1 and b, c should be close to 0\n",
    "    assert np.isclose(a, 1, atol=0.1), f\"Expected a to be close to 1, got {a}\"\n",
    "    assert np.isclose(b, 0, atol=0.1), f\"Expected b to be close to 0, got {b}\"\n",
    "    assert np.isclose(c, 0, atol=0.1), f\"Expected c to be close to 0, got {c}\"\n",
    "\n",
    "    # The centroid of the floor should be at the origin\n",
    "    floor_points = reoriented_pcd.select_by_index(inliers)\n",
    "    centroid = floor_points.get_center()\n",
    "    assert np.allclose(centroid, [0, 0, 0], atol=0.1), f\"Expected centroid to be close to [0, 0, 0], got {centroid}\"\n",
    "\n",
    "    print(\"Test passed!\")\n"
   ]
  },
  {
   "cell_type": "code",
   "execution_count": 3,
   "metadata": {},
   "outputs": [
    {
     "name": "stdout",
     "output_type": "stream",
     "text": [
      "Test passed!\n"
     ]
    }
   ],
   "source": [
    "\n",
    "# Run the unit test with your input point cloud file\n",
    "test_reorientation(\"D:\\Rohit\\JObs\\AvataarAI\\pc_assignment\\shoe_pc.ply\")\n"
   ]
  },
  {
   "cell_type": "code",
   "execution_count": null,
   "metadata": {},
   "outputs": [],
   "source": []
  }
 ],
 "metadata": {
  "kernelspec": {
   "display_name": "3d",
   "language": "python",
   "name": "python3"
  },
  "language_info": {
   "codemirror_mode": {
    "name": "ipython",
    "version": 3
   },
   "file_extension": ".py",
   "mimetype": "text/x-python",
   "name": "python",
   "nbconvert_exporter": "python",
   "pygments_lexer": "ipython3",
   "version": "3.8.18"
  }
 },
 "nbformat": 4,
 "nbformat_minor": 2
}
